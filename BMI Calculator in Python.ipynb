{
 "cells": [
  {
   "cell_type": "markdown",
   "id": "bd9c4d49",
   "metadata": {},
   "source": [
    "### Simple BMI Calculator\n",
    "\n",
    "https://mercer-health.com/services/weight-management-center/bmi-calculator#:~:text=Body%20Mass%20Index%2C%20or%20BMI,inches%20x%20height%20in%20inches"
   ]
  },
  {
   "cell_type": "code",
   "execution_count": 15,
   "id": "a3c49f60",
   "metadata": {},
   "outputs": [
    {
     "data": {
      "text/plain": [
       "'\\nUnder 18.5 = Underweight -> Minimal\\n18.5 - 24.9 = Normal Weight -> Minimal\\n25 - 29.9 = Overweight -> Increased\\n30 - 34.9 = Obese -> High \\n35 - 39.9 = Severely Obese -> Very High\\n40 and over = Morbidly Obese -> Extremely High\\n\\n'"
      ]
     },
     "execution_count": 15,
     "metadata": {},
     "output_type": "execute_result"
    }
   ],
   "source": [
    "# Knowing that we need to get inputs from the users. \n",
    "# Let's start by calculating the weight\n",
    "\n",
    "# BMI = (weight in pounds x 703) / (height in inches x height in inches)\n",
    "\n",
    "\"\"\"\n",
    "Under 18.5 = Underweight -> Minimal\n",
    "18.5 - 24.9 = Normal Weight -> Minimal\n",
    "25 - 29.9 = Overweight -> Increased\n",
    "30 - 34.9 = Obese -> High \n",
    "35 - 39.9 = Severely Obese -> Very High\n",
    "40 and over = Morbidly Obese -> Extremely High\n",
    "\n",
    "\"\"\""
   ]
  },
  {
   "cell_type": "code",
   "execution_count": null,
   "id": "2c8d363f",
   "metadata": {},
   "outputs": [],
   "source": [
    "name = input(\"Enter your name: \")\n",
    "\n",
    "weight = int(input(\"Enter your weight in pounds: \"))\n",
    "\n",
    "height = int(input(\"Enter your height in inches: \"))\n",
    "\n",
    "BMI = (weight * 703) / (height * height)\n",
    "\n",
    "print(BMI)"
   ]
  },
  {
   "cell_type": "code",
   "execution_count": 14,
   "id": "f6dc650b",
   "metadata": {},
   "outputs": [
    {
     "name": "stdout",
     "output_type": "stream",
     "text": [
      "Emmanuel, you are overweight.\n"
     ]
    }
   ],
   "source": [
    "if BMI > 0:\n",
    "    if(BMI < 18.5):\n",
    "        print(name + ',' + \" you are underweight.\")\n",
    "    elif(BMI < 24.9):\n",
    "        print(name + ','+ \" you are normal weight.\")\n",
    "    elif(BMI < 29.9):\n",
    "        print(name + ',' + \" you are overweight.\")\n",
    "    elif(BMI < 34.9):\n",
    "        print(name + ',' + \" you are obese.\")\n",
    "    elif(BMI < 39.9):\n",
    "        print(name + ',' + \" you are severely obese.\")\n",
    "    else:\n",
    "        print(name + ',' + \" you are morbidly obese.\")\n",
    "else:\n",
    "    print(\"Enter valid input\")"
   ]
  },
  {
   "cell_type": "code",
   "execution_count": null,
   "id": "ab168eed",
   "metadata": {},
   "outputs": [],
   "source": []
  },
  {
   "cell_type": "code",
   "execution_count": null,
   "id": "56261256",
   "metadata": {},
   "outputs": [],
   "source": []
  }
 ],
 "metadata": {
  "kernelspec": {
   "display_name": "Python 3 (ipykernel)",
   "language": "python",
   "name": "python3"
  },
  "language_info": {
   "codemirror_mode": {
    "name": "ipython",
    "version": 3
   },
   "file_extension": ".py",
   "mimetype": "text/x-python",
   "name": "python",
   "nbconvert_exporter": "python",
   "pygments_lexer": "ipython3",
   "version": "3.11.4"
  }
 },
 "nbformat": 4,
 "nbformat_minor": 5
}
